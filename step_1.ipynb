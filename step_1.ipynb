{
  "nbformat": 4,
  "nbformat_minor": 0,
  "metadata": {
    "colab": {
      "provenance": []
    },
    "kernelspec": {
      "name": "python3",
      "display_name": "Python 3"
    },
    "language_info": {
      "name": "python"
    }
  },
  "cells": [
    {
      "cell_type": "markdown",
      "source": [
        "## Mount Google Drive to Colab\n",
        "\n",
        "To seamlessly access files across your local machine and Google Colab, it is essential to mount your Google Drive in Colab using the following code snippet:\n"
      ],
      "metadata": {
        "id": "9W1ZEgp_sgTl"
      }
    },
    {
      "cell_type": "code",
      "source": [
        "from google.colab import drive\n",
        "drive.mount('/content/drive')"
      ],
      "metadata": {
        "id": "uSwvWkCJsMrn"
      },
      "execution_count": null,
      "outputs": []
    },
    {
      "cell_type": "markdown",
      "source": [
        "## Generate and Store SSH Key\n",
        "For first-time users, generating an SSH key pair and storing them in Google Drive is crucial for secure operations.\n",
        "This command generates a public/private RSA key pair with a 4096-bit key size and no passphrase. The keys are stored under ~/.ssh."
      ],
      "metadata": {
        "id": "g0j9E_FZswBa"
      }
    },
    {
      "cell_type": "code",
      "source": [
        "!ssh-keygen -t rsa -b 4096 -f ~/.ssh/id_rsa -N ''"
      ],
      "metadata": {
        "id": "D7Rj6-ZUsvbl"
      },
      "execution_count": null,
      "outputs": []
    },
    {
      "cell_type": "markdown",
      "source": [
        "## Add GitHub to Known Hosts\n",
        "To securely connect to GitHub, add it to your known hosts:"
      ],
      "metadata": {
        "id": "0B0YlMfnvY8W"
      }
    },
    {
      "cell_type": "code",
      "source": [
        "!ssh-keyscan -t rsa github.com >> ~/.ssh/known_hosts"
      ],
      "metadata": {
        "id": "Ddt8BYrBsO6E"
      },
      "execution_count": null,
      "outputs": []
    },
    {
      "cell_type": "markdown",
      "source": [
        "## Upload SSH Key to GitHub\n",
        "*You need to set this manually.*\n",
        "\n",
        "To allow secure operations with GitHub, such as clone, push, and pull operations, you need to upload your public SSH key to GitHub. Copy the displayed SSH key and paste it into GitHub under 'Settings' -> 'SSH and GPG keys' -> 'New SSH key'."
      ],
      "metadata": {
        "id": "5JhL0CcAvz_T"
      }
    },
    {
      "cell_type": "code",
      "source": [
        "print(\"\\n\\033[91mYou need to set this manually.\\033[0m\\n\")\n",
        "!cat ~/.ssh/id_rsa.pub\n",
        "print()\n",
        "\n",
        "import subprocess\n",
        "from IPython.display import HTML\n",
        "\n",
        "def get_ssh_key():\n",
        "    result = subprocess.run(['cat', '/root/.ssh/id_rsa.pub'], stdout=subprocess.PIPE, text=True)\n",
        "    return result.stdout\n",
        "\n",
        "def create_copy_button(text_to_copy):\n",
        "    button_html = f\"\"\"\n",
        "    <html>\n",
        "    <body>\n",
        "    <button onclick=\"navigator.clipboard.writeText(`{text_to_copy}`)\">\n",
        "        Copy SSH Key to Clipboard\n",
        "    </button>\n",
        "    </body>\n",
        "    </html>\n",
        "    \"\"\"\n",
        "    return HTML(button_html)\n",
        "\n",
        "ssh_key = get_ssh_key()\n",
        "\n",
        "display(create_copy_button(ssh_key))\n",
        "\n",
        "print()"
      ],
      "metadata": {
        "id": "rwtpHkJyxTUY"
      },
      "execution_count": null,
      "outputs": []
    },
    {
      "cell_type": "markdown",
      "source": [
        "## Backup SSH Keys to Google Drive\n",
        "Storing your SSH keys on Google Drive to prevent the need for regenerating keys in the future."
      ],
      "metadata": {
        "id": "-NFdK91DwOQJ"
      }
    },
    {
      "cell_type": "code",
      "source": [
        "!ls ~/.ssh -a"
      ],
      "metadata": {
        "id": "rCoClWaIt5Ti"
      },
      "execution_count": null,
      "outputs": []
    },
    {
      "cell_type": "code",
      "source": [
        "!cp -r ~/.ssh /content/drive/MyDrive/"
      ],
      "metadata": {
        "id": "4cz_YeaSuC_H"
      },
      "execution_count": null,
      "outputs": []
    },
    {
      "cell_type": "code",
      "source": [
        "!ls /content/drive/MyDrive/.ssh"
      ],
      "metadata": {
        "id": "NLh32bLHuXdT"
      },
      "execution_count": null,
      "outputs": []
    }
  ]
}