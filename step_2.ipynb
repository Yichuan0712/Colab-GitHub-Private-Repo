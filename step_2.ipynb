{
  "nbformat": 4,
  "nbformat_minor": 0,
  "metadata": {
    "colab": {
      "provenance": []
    },
    "kernelspec": {
      "name": "python3",
      "display_name": "Python 3"
    },
    "language_info": {
      "name": "python"
    }
  },
  "cells": [
    {
      "cell_type": "markdown",
      "source": [
        "## Mount Google Drive\n",
        "\n",
        "Mount your Google Drive to access the SSH keys stored there. This is essential for ensuring that you can use the same keys consistently across sessions without needing to regenerate them."
      ],
      "metadata": {
        "id": "Z1OLWUpQz54K"
      }
    },
    {
      "cell_type": "code",
      "execution_count": null,
      "metadata": {
        "id": "5raLYYODzVKI"
      },
      "outputs": [],
      "source": [
        "from google.colab import drive\n",
        "drive.mount('/content/drive')"
      ]
    },
    {
      "cell_type": "markdown",
      "source": [
        "## Copy SSH Keys from Google Drive\n",
        "Copy your SSH keys from Google Drive to the appropriate directory in your Colab environment. This step makes the keys available for use in your current session."
      ],
      "metadata": {
        "id": "mz4HOixj0GgF"
      }
    },
    {
      "cell_type": "code",
      "source": [
        "!cp -r /content/drive/MyDrive/.ssh/ ~/"
      ],
      "metadata": {
        "id": "McGBkLnjzhQe"
      },
      "execution_count": null,
      "outputs": []
    },
    {
      "cell_type": "code",
      "source": [
        "!ls ~/.ssh/ -a"
      ],
      "metadata": {
        "id": "CpQLh4aLz05i"
      },
      "execution_count": null,
      "outputs": []
    },
    {
      "cell_type": "markdown",
      "source": [
        "## Verify Connection to GitHub\n",
        "Use the following command to test your SSH configuration by attempting a test connection to GitHub. This step confirms that your setup is correct and the SSH keys are functioning as expected."
      ],
      "metadata": {
        "id": "j_H11Ght0MYJ"
      }
    },
    {
      "cell_type": "code",
      "source": [
        "!ssh -T git@github.com"
      ],
      "metadata": {
        "id": "ji3Z3-e8zi-R"
      },
      "execution_count": null,
      "outputs": []
    },
    {
      "cell_type": "markdown",
      "source": [
        "## Clone GitHub Repository\n",
        "Once the SSH connection has been verified, you can securely clone a GitHub repository using SSH. Replace YourGitHubUsername/RepositoryName with the actual username and repository name."
      ],
      "metadata": {
        "id": "c0s9QoQx0Rzm"
      }
    },
    {
      "cell_type": "code",
      "source": [
        "!git clone git@github.com:YourGitHubUsername/RepositoryName.git"
      ],
      "metadata": {
        "id": "Es2SCo6fzjx1"
      },
      "execution_count": null,
      "outputs": []
    }
  ]
}